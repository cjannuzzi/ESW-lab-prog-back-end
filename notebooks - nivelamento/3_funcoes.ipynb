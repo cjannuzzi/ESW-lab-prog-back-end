{
 "cells": [
  {
   "cell_type": "markdown",
   "metadata": {},
   "source": [
    "# Funções\n",
    "Imagine que uma função é como uma máquina mágica.  <br><br> Você coloca algo nela (esses são os \"<strong>ingredientes</strong>\" ou \"<strong>parâmetros</strong>\"), a máquina trabalha e, em seguida, lhe dá algo de volta (isso é o \"<strong>resultado</strong>\" ou \"<strong>retorno</strong>\"). <br><br> No Python, usamos funções para fazer tarefas específicas."
   ]
  },
  {
   "cell_type": "markdown",
   "metadata": {},
   "source": [
    "### Como Funciona uma Função?\n",
    "<strong> Nome da Função</strong>: Assim como você tem um nome, cada função tem seu próprio nome.\n",
    "<br><br> <strong> Parâmetros</strong>: São as informações que você dá para a função. Pode ser um número, uma palavra ou qualquer coisa que a função precise para trabalhar.\n",
    "<br><br> <strong> Corpo da Função</strong>: É onde a mágica acontece. Aqui, a função faz o seu trabalho.\n",
    "<br><br> <strong> Retorno</strong>: É o que a função lhe dá depois de terminar seu trabalho."
   ]
  },
  {
   "cell_type": "markdown",
   "metadata": {},
   "source": [
    "### Por Que Usar Funções?\n",
    "Para não repetir o mesmo código várias vezes.\n",
    "<br><br> Para tornar o código mais fácil de entender.\n",
    "<br><br>Para organizar o código em partes menores e mais gerenciáveis."
   ]
  },
  {
   "cell_type": "markdown",
   "metadata": {},
   "source": [
    "#### Exemplos de Funções\n"
   ]
  },
  {
   "cell_type": "markdown",
   "metadata": {},
   "source": [
    "1. Função para Somar Dois Números:\n",
    "<br>Vamos fazer uma função chamada `soma` que pega dois números e nos dá a soma deles."
   ]
  },
  {
   "cell_type": "code",
   "execution_count": 1,
   "metadata": {},
   "outputs": [
    {
     "name": "stdout",
     "output_type": "stream",
     "text": [
      "8\n"
     ]
    }
   ],
   "source": [
    "def soma(numero1, numero2):\n",
    "    resultado = numero1 + numero2\n",
    "    return resultado\n",
    "\n",
    "\n",
    "# Usando a função\n",
    "soma_de_numeros = soma(5, 3)\n",
    "print(soma_de_numeros)  # Isso vai mostrar 8\n",
    "\n",
    "# Explicação: A função ´soma´ pega dois números (numero1 e numero2), soma-os e retorna o resultado."
   ]
  },
  {
   "cell_type": "markdown",
   "metadata": {},
   "source": [
    "2. Função para Dizer Olá:\n",
    "<br>Uma função que diz olá para alguém.\n"
   ]
  },
  {
   "cell_type": "code",
   "execution_count": 2,
   "metadata": {},
   "outputs": [
    {
     "name": "stdout",
     "output_type": "stream",
     "text": [
      "Olá, Maria!\n"
     ]
    }
   ],
   "source": [
    "def diz_ola(nome):\n",
    "    saudacao = \"Olá, \" + nome + \"!\"\n",
    "    return saudacao\n",
    "\n",
    "\n",
    "# Usando a função\n",
    "mensagem = diz_ola(\"Maria\")\n",
    "print(mensagem)  # Isso vai mostrar \"Olá, Maria!\"\n",
    "\n",
    "# Explicação: A função ´diz_ola´ pega um nome e cria uma saudação."
   ]
  },
  {
   "cell_type": "markdown",
   "metadata": {},
   "source": [
    "3. Função para Multiplicar Números:\n",
    "<br> Uma função que multiplica dois números.\n"
   ]
  },
  {
   "cell_type": "code",
   "execution_count": null,
   "metadata": {},
   "outputs": [],
   "source": [
    "def multiplica(numero1, numero2):\n",
    "    resultado = numero1 * numero2\n",
    "    return resultado\n",
    "\n",
    "\n",
    "# Usando a função\n",
    "produto = multiplica(4, 5)\n",
    "print(produto)  # Isso vai mostrar 20\n",
    "\n",
    "# Explicação: A função `multiplica` pega dois números e retorna o produto deles."
   ]
  }
 ],
 "metadata": {
  "kernelspec": {
   "display_name": "Python 3",
   "language": "python",
   "name": "python3"
  },
  "language_info": {
   "codemirror_mode": {
    "name": "ipython",
    "version": 3
   },
   "file_extension": ".py",
   "mimetype": "text/x-python",
   "name": "python",
   "nbconvert_exporter": "python",
   "pygments_lexer": "ipython3",
   "version": "3.12.1"
  }
 },
 "nbformat": 4,
 "nbformat_minor": 2
}
