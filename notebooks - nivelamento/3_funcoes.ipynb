{
 "cells": [
  {
   "cell_type": "markdown",
   "metadata": {},
   "source": [
    "# Funções\n",
    "Imagine que uma função é como uma máquina mágica.  <br><br> Você coloca algo nela (esses são os \"<strong>ingredientes</strong>\" ou \"<strong>parâmetros</strong>\"), a máquina trabalha e, em seguida, lhe dá algo de volta (isso é o \"<strong>resultado</strong>\" ou \"<strong>retorno</strong>\"). <br><br> No Python, usamos funções para fazer tarefas específicas."
   ]
  },
  {
   "cell_type": "markdown",
   "metadata": {},
   "source": [
    "### Como Funciona uma Função?\n",
    "<strong> Nome da Função</strong>: Assim como você tem um nome, cada função tem seu próprio nome.\n",
    "<br><br> <strong> Parâmetros</strong>: São as informações que você dá para a função. Pode ser um número, uma palavra ou qualquer coisa que a função precise para trabalhar.\n",
    "<br><br> <strong> Corpo da Função</strong>: É onde a mágica acontece. Aqui, a função faz o seu trabalho.\n",
    "<br><br> <strong> Retorno</strong>: É o que a função lhe dá depois de terminar seu trabalho."
   ]
  }
 ],
 "metadata": {
  "kernelspec": {
   "display_name": "Python 3",
   "language": "python",
   "name": "python3"
  },
  "language_info": {
   "name": "python",
   "version": "3.12.1"
  }
 },
 "nbformat": 4,
 "nbformat_minor": 2
}
