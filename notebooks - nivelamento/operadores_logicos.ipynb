{
 "cells": [
  {
   "cell_type": "markdown",
   "metadata": {},
   "source": [
    "# Introdução aos Operadores Lógicos"
   ]
  },
  {
   "cell_type": "markdown",
   "metadata": {},
   "source": [
    "Operadores lógicos são usados para combinar declarações condicionais. Em Python, os principais operadores lógicos são `and`, `or`, e `not`."
   ]
  },
  {
   "cell_type": "markdown",
   "metadata": {},
   "source": [
    "### Operador `and`\n",
    "<strong>Uso:</strong> x and y\n",
    "<br>\n",
    "<br> <strong>Descrição:</strong> Retorna True se ambas x e y forem verdadeiras. Se uma delas for falsa, retorna False.\n",
    "<br>\n",
    "<br> <strong>Exemplo:</strong> "
   ]
  },
  {
   "cell_type": "code",
   "execution_count": 2,
   "metadata": {},
   "outputs": [
    {
     "name": "stdout",
     "output_type": "stream",
     "text": [
      "Adulto\n"
     ]
    }
   ],
   "source": [
    "age = 29\n",
    "if age > 18 and age < 60:\n",
    "    print(\"Adulto\")\n",
    "\n",
    "# Aqui, se a idade for maior que 18 e menor que 60, a condição é satisfeita.\n"
   ]
  },
  {
   "cell_type": "markdown",
   "metadata": {},
   "source": [
    "### Operador `or`\n",
    "<strong>Uso:</strong> x or y\n",
    "<br>\n",
    "<br> <strong>Descrição:</strong> Retorna True se pelo menos uma entre x ou y for verdadeira. Se ambas forem falsas, retorna False.\n",
    "<br>\n",
    "<br> <strong>Exemplo:</strong> "
   ]
  },
  {
   "cell_type": "code",
   "execution_count": 3,
   "metadata": {},
   "outputs": [
    {
     "name": "stdout",
     "output_type": "stream",
     "text": [
      "Fim de semana\n"
     ]
    }
   ],
   "source": [
    "day = \"Sábado\"\n",
    "if day == \"Sábado\" or day == \"Domingo\":\n",
    "    print(\"Fim de semana\")\n",
    "\n",
    "# Se o dia for sábado ou domingo, a condição é satisfeita."
   ]
  },
  {
   "cell_type": "markdown",
   "metadata": {},
   "source": [
    "### Operador `not`\n",
    "<strong>Uso:</strong> not x\n",
    "<br>\n",
    "<br> <strong>Descrição:</strong> Inverte o estado lógico de x. Se x é True, retorna False, e vice-versa.\n",
    "<br>\n",
    "<br> <strong>Exemplo:</strong> "
   ]
  },
  {
   "cell_type": "code",
   "execution_count": 5,
   "metadata": {},
   "outputs": [
    {
     "name": "stdout",
     "output_type": "stream",
     "text": [
      "Vamos passear\n"
     ]
    }
   ],
   "source": [
    "esta_chovendo = False\n",
    "\n",
    "if not esta_chovendo:\n",
    "    print(\"Vamos passear\")\n",
    "\n",
    "# Se não estiver chovendo, a condição é satisfeita.\n"
   ]
  }
 ],
 "metadata": {
  "kernelspec": {
   "display_name": "Python 3",
   "language": "python",
   "name": "python3"
  },
  "language_info": {
   "codemirror_mode": {
    "name": "ipython",
    "version": 3
   },
   "file_extension": ".py",
   "mimetype": "text/x-python",
   "name": "python",
   "nbconvert_exporter": "python",
   "pygments_lexer": "ipython3",
   "version": "3.12.1"
  }
 },
 "nbformat": 4,
 "nbformat_minor": 2
}
