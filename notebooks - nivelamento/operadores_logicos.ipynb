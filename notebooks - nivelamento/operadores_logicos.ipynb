{
 "cells": [
  {
   "cell_type": "markdown",
   "metadata": {},
   "source": [
    "# Introdução aos Operadores Lógicos"
   ]
  },
  {
   "cell_type": "markdown",
   "metadata": {},
   "source": [
    "Operadores lógicos são usados para combinar declarações condicionais. Em Python, os principais operadores lógicos são `and`, `or`, e `not`."
   ]
  },
  {
   "cell_type": "markdown",
   "metadata": {},
   "source": [
    "### Operador `and`\n",
    "<strong>Uso:</strong> x and y\n",
    "<br>\n",
    "<br> <strong>Descrição:</strong> Retorna True se ambas x e y forem verdadeiras. Se uma delas for falsa, retorna False.\n",
    "<br>\n",
    "<br> <strong>Exemplo:</strong> "
   ]
  },
  {
   "cell_type": "code",
   "execution_count": 6,
   "metadata": {},
   "outputs": [
    {
     "name": "stdout",
     "output_type": "stream",
     "text": [
      "Adulto\n"
     ]
    }
   ],
   "source": [
    "age = 29\n",
    "if age > 18 and age < 60:\n",
    "    print(\"Adulto\")\n",
    "\n",
    "# Aqui, se a idade for maior que 18 e menor que 60, a condição é satisfeita."
   ]
  },
  {
   "cell_type": "markdown",
   "metadata": {},
   "source": [
    "### Operador `or`\n",
    "<strong>Uso:</strong> x or y\n",
    "<br>\n",
    "<br> <strong>Descrição:</strong> Retorna True se pelo menos uma entre x ou y for verdadeira. Se ambas forem falsas, retorna False.\n",
    "<br>\n",
    "<br> <strong>Exemplo:</strong> "
   ]
  },
  {
   "cell_type": "code",
   "execution_count": 7,
   "metadata": {},
   "outputs": [
    {
     "name": "stdout",
     "output_type": "stream",
     "text": [
      "Fim de semana\n"
     ]
    }
   ],
   "source": [
    "day = \"Sábado\"\n",
    "if day == \"Sábado\" or day == \"Domingo\":\n",
    "    print(\"Fim de semana\")\n",
    "\n",
    "# Se o dia for sábado ou domingo, a condição é satisfeita."
   ]
  },
  {
   "cell_type": "markdown",
   "metadata": {},
   "source": [
    "### Operador `not`\n",
    "<strong>Uso:</strong> not x\n",
    "<br>\n",
    "<br> <strong>Descrição:</strong> Inverte o estado lógico de x. Se x é True, retorna False, e vice-versa.\n",
    "<br>\n",
    "<br> <strong>Exemplo:</strong> "
   ]
  },
  {
   "cell_type": "code",
   "execution_count": 8,
   "metadata": {},
   "outputs": [
    {
     "name": "stdout",
     "output_type": "stream",
     "text": [
      "Vamos passear\n"
     ]
    }
   ],
   "source": [
    "esta_chovendo = False\n",
    "\n",
    "if not esta_chovendo:\n",
    "    print(\"Vamos passear\")\n",
    "\n",
    "# Se não estiver chovendo, a condição é satisfeita."
   ]
  },
  {
   "cell_type": "markdown",
   "metadata": {},
   "source": [
    "## Importância e Aplicações\n",
    "Os operadores lógicos são fundamentais para a criação de condições complexas em estruturas de controle de fluxo, como `if`, `elif`, e `while`.\n",
    "<br>\n",
    "<br>\n",
    "São usados em situações como controle de acesso (por exemplo, verificar nome de usuário e senha), tomada de decisões com base em múltiplas variáveis, e em operações com dados booleanos.\n"
   ]
  },
  {
   "cell_type": "markdown",
   "metadata": {},
   "source": [
    "## Exercícios Práticos"
   ]
  },
  {
   "cell_type": "markdown",
   "metadata": {},
   "source": [
    "##### 1. Verificar elegibilidade para votar:\n",
    "Pergunte a idade do usuário e use o operador `and` para verificar se a idade está entre 18 e 70 anos, indicando a obrigação de votar no Brasil."
   ]
  },
  {
   "cell_type": "code",
   "execution_count": 10,
   "metadata": {},
   "outputs": [],
   "source": [
    "# Exercício 1: Verificar elegibilidade para votar\n",
    "\n",
    "idade = 25  # Exemplo de idade\n",
    "\n",
    "if idade >= 18 and idade <= 70:\n",
    "    elegivel_para_votar = True\n",
    "else:\n",
    "    elegivel_para_votar = False\n",
    "\n",
    "# Resultado: True\n",
    "# Explicação: A idade de 25 anos está entre 18 e 70, então a pessoa é obrigada a votar no Brasil. Usamos o operador and para verificar se a idade está dentro desse intervalo.\n"
   ]
  },
  {
   "cell_type": "markdown",
   "metadata": {},
   "source": [
    "##### 2. Verificar abertura de loja:\n",
    "Suponha que uma loja abra nos fins de semana ou em feriados. Use o operador `or` para verificar se hoje é sábado, domingo ou feriado."
   ]
  },
  {
   "cell_type": "code",
   "execution_count": 9,
   "metadata": {},
   "outputs": [],
   "source": [
    "dia_da_semana = \"Domingo\"\n",
    "feriado = False\n",
    "\n",
    "if dia_da_semana == \"Sábado\" or dia_da_semana == \"Domingo\" or feriado:\n",
    "    loja_aberta = True\n",
    "else:\n",
    "    loja_aberta = False\n",
    "\n",
    "# Resultado: True\n",
    "# Explicação: O dia da semana é domingo, então a loja está aberta. O operador or é usado para verificar se pelo menos uma das condições (ser sábado, ser domingo, ou ser feriado) é verdadeira.\n"
   ]
  },
  {
   "cell_type": "markdown",
   "metadata": {},
   "source": [
    "##### 3. Inversão de condição:\n",
    "Dê um exemplo de situação em que o usuário não pode acessar um recurso (por exemplo, um filme classificado para maiores de 18 anos) e use o operador `not` para verificar a restrição."
   ]
  },
  {
   "cell_type": "code",
   "execution_count": null,
   "metadata": {},
   "outputs": [],
   "source": [
    "idade_para_filme = 16\n",
    "idade_minima_para_filme = 18\n",
    "\n",
    "if not idade_para_filme >= idade_minima_para_filme:\n",
    "    acesso_negado = True\n",
    "else:\n",
    "    acesso_negado = False\n",
    "\n",
    "# Resultado: True\n",
    "# Explicação: A idade para assistir ao filme é menor que a idade mínima (18 anos). O operador not inverte a condição, então, se a pessoa NÃO tem a idade mínima, acesso_negado é True.\n"
   ]
  }
 ],
 "metadata": {
  "kernelspec": {
   "display_name": "Python 3",
   "language": "python",
   "name": "python3"
  },
  "language_info": {
   "codemirror_mode": {
    "name": "ipython",
    "version": 3
   },
   "file_extension": ".py",
   "mimetype": "text/x-python",
   "name": "python",
   "nbconvert_exporter": "python",
   "pygments_lexer": "ipython3",
   "version": "3.12.1"
  }
 },
 "nbformat": 4,
 "nbformat_minor": 2
}
